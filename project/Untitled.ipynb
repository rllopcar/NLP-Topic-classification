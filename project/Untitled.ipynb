{
 "cells": [
  {
   "cell_type": "code",
   "execution_count": 1,
   "metadata": {},
   "outputs": [],
   "source": [
    "import os\n",
    "import glob\n",
    "import errno\n",
    "import json\n",
    "import numpy as np\n",
    "import pandas as pd\n",
    "import matplotlib.pyplot as plt\n",
    "filepath = '../data/bbc/'"
   ]
  },
  {
   "cell_type": "code",
   "execution_count": 2,
   "metadata": {},
   "outputs": [],
   "source": [
    "labels = []\n",
    "# Accessing the labels names and saving then in \"labels_names\"\n",
    "files = os.listdir(filepath)\n",
    "for name in files:\n",
    "    if os.path.isdir(filepath+name): \n",
    "        labels.append(name)"
   ]
  },
  {
   "cell_type": "code",
   "execution_count": 3,
   "metadata": {},
   "outputs": [
    {
     "data": {
      "image/png": "[encoded data removed]",
      "text/plain": [
       "<Figure size 360x360 with 1 Axes>"
      ]
     },
     "metadata": {
      "needs_background": "light"
     },
     "output_type": "display_data"
    }
   ],
   "source": [
    "text = []   \n",
    "texts_aux = [] \n",
    "texts_labels = []\n",
    "\n",
    "\n",
    "# Label the content of each article\n",
    "for label in labels:\n",
    "    path = filepath+label+'/*.txt'\n",
    "    files = glob.glob(path)\n",
    "    for name in files:\n",
    "        try:\n",
    "            with open(name, 'r',encoding='ISO-8859-1') as f:\n",
    "                texts_aux.append(f.read())\n",
    "                texts_aux.append(label)\n",
    "        except IOError as exc:\n",
    "            if exc.errno != errno.EISDIR:\n",
    "                raise\n",
    "        texts_labels.append(texts_aux)\n",
    "        texts_aux=[]\n",
    " \n",
    "# Labeled texts stored in a python list\n",
    "#print(len(texts_labels))\n",
    "\n",
    "\n",
    "\n",
    "# Labeled texts stored in numpy array\n",
    "texts_labels_np = np.array(texts_labels)\n",
    "\n",
    "# Labeled texts stored in panda dataframe\n",
    "df = pd.DataFrame(texts_labels, columns=['text','label'])\n",
    "#print(text_labels_df.head)\n",
    "\n",
    "\n",
    "######\n",
    "######\n",
    "# Data preparation\n",
    "######\n",
    "######\n",
    "\n",
    "df['pre_clean_len'] = [len(t) for t in df.text]\n",
    "\n",
    "fig, ax = plt.subplots(figsize=(5, 5))\n",
    "plt.boxplot(df.pre_clean_len)\n",
    "plt.show()"
   ]
  },
  {
   "cell_type": "code",
   "execution_count": null,
   "metadata": {},
   "outputs": [],
   "source": []
  }
 ],
 "metadata": {
  "kernelspec": {
   "display_name": "Python 3",
   "language": "python",
   "name": "python3"
  },
  "language_info": {
   "codemirror_mode": {
    "name": "ipython",
    "version": 3
   },
   "file_extension": ".py",
   "mimetype": "text/x-python",
   "name": "python",
   "nbconvert_exporter": "python",
   "pygments_lexer": "ipython3",
   "version": "3.7.3"
  }
 },
 "nbformat": 4,
 "nbformat_minor": 2
}
