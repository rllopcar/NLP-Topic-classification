{
 "cells": [
  {
   "cell_type": "code",
   "execution_count": 3,
   "metadata": {},
   "outputs": [
    {
     "name": "stderr",
     "output_type": "stream",
     "text": [
      "[nltk_data] Downloading package wordnet to\n",
      "[nltk_data]     C:\\Users\\mapal\\AppData\\Roaming\\nltk_data...\n",
      "[nltk_data]   Package wordnet is already up-to-date!\n"
     ]
    },
    {
     "name": "stdout",
     "output_type": "stream",
     "text": [
      "['ad', 'sal', 'boo', 'tim', 'war', 'profi', 'quarterly', 'profi', 'us', 'media', 'gia', 'timewar', 'jumped', '76', '1', '13b', 'â', '600m', 'three', 'month', 'decemb', '639m', 'year', 'earlier', 'firm', 'one', 'bigg', 'investor', 'googl', 'benefited', 'sal', 'high', 'speed', 'inter', 'connectio', 'high', 'adver', 'sal', 'timewar', 'said', 'fourth', 'quar', 'sal', 'ros', '2', '11', '1bn', '10', '9bn', 'profi', 'buoyed', 'one', 'gai', 'off', 'profi', 'dip', 'war', 'bro', 'less', 'user', 'aol', 'tim', 'war', 'said', 'friday', 'own', '8', 'search', 'engi', 'googl', 'inter', 'business', 'aol', 'mixed', 'fortu', 'los', '464', '000', 'subscrib', 'fourth', 'quar', 'profi', 'lower', 'preceding', 'three', 'quar', 'howev', 'company', 'said', 'aol', 'underlying', 'profi', 'exceptional', 'item', 'ros', '8', 'back', 'strong', 'inter', 'advertising', 'revenu', 'hop', 'increa', 'subscrib', 'offering', 'onli', 'servic', 'free', 'timewar', 'inter', 'custom', 'try', 'sig', 'aol', 'existing', 'custom', 'high', 'speed', 'broadba', 'timewar', 'also', 'resta', '2000', '2003', 'resul', 'following', 'prob', 'us', 'securitie', 'exchang', 'commissio', 'sec', 'clo', 'concluding', 'tim', 'war', 'fourth', 'quar', 'profi', 'slightly', 'bett', 'analy', 'expectatio', 'film', 'divisio', 'saw', 'profi', 'slump', '27', '284m', 'helped', 'box', 'offic', 'flop', 'alexa', 'catwoma', 'sharp', 'contra', 'year', 'earlier', 'third', 'final', 'film', 'lord', 'ring', 'trilogy', 'boosted', 'resul', 'full', 'year', 'timewar', 'posted', 'profi', '3', '36b', '27', '2003', 'performanc', 'revenu', 'grew', '6', '4', '42', '09b', 'financial', 'performanc', 'strong', 'meeting', 'exceeding', 'full', 'year', 'objectiv', 'greatly', 'enhancing', 'flexibility', 'chairma', 'chief', 'executiv', 'richard', 'parso', 'said', '2005', 'timewar', 'projecting', 'operating', 'earning', 'growth', 'arou', '5', 'also', 'expec', 'high', 'revenu', 'wider', 'profi', 'margi', 'timewar', 'resta', 'accou', 'par', 'effor', 'resolv', 'inquiry', 'aol', 'us', 'mark', 'regulator', 'already', 'offered', 'pay', '300m', 'settl', 'charg', 'deal', 'review', 'sec', 'company', 'said', 'unabl', 'estima', 'amou', 'needed', 'set', 'asid', 'legal', 'reserv', 'previously', 'set', '500m', 'int', 'adju', 'way', 'accou', 'deal', 'rma', 'music', 'publish', 'bertelsmann', 'purcha', 'stak', 'aol', 'europ', 'reported', 'advertising', 'revenu', 'book', 'sal', 'stak', 'aol', 'europ', 'loss', 'valu', 'stak']\n"
     ]
    }
   ],
   "source": [
    "%run -i \"data_processing.py\""
   ]
  },
  {
   "cell_type": "code",
   "execution_count": 5,
   "metadata": {},
   "outputs": [],
   "source": [
    "import pandas as pd\n",
    "from sklearn.feature_extraction.text import TfidfVectorizer\n",
    "import numpy as np\n",
    "from sklearn.model_selection import train_test_split\n",
    "from sklearn.ensemble import RandomForestClassifier\n",
    "from sklearn.metrics import accuracy_score, cohen_kappa_score, confusion_matrix"
   ]
  },
  {
   "cell_type": "code",
   "execution_count": 26,
   "metadata": {},
   "outputs": [
    {
     "data": {
      "text/plain": [
       "array([list(['ad', 'sal', 'boo', 'tim', 'war', 'profi', 'quarterly', 'profi', 'us', 'media', 'gia', 'timewar', 'jumped', '76', '1', '13b', 'â', '600m', 'three', 'month', 'decemb', '639m', 'year', 'earlier', 'firm', 'one', 'bigg', 'investor', 'googl', 'benefited', 'sal', 'high', 'speed', 'inter', 'connectio', 'high', 'adver', 'sal', 'timewar', 'said', 'fourth', 'quar', 'sal', 'ros', '2', '11', '1bn', '10', '9bn', 'profi', 'buoyed', 'one', 'gai', 'off', 'profi', 'dip', 'war', 'bro', 'less', 'user', 'aol', 'tim', 'war', 'said', 'friday', 'own', '8', 'search', 'engi', 'googl', 'inter', 'business', 'aol', 'mixed', 'fortu', 'los', '464', '000', 'subscrib', 'fourth', 'quar', 'profi', 'lower', 'preceding', 'three', 'quar', 'howev', 'company', 'said', 'aol', 'underlying', 'profi', 'exceptional', 'item', 'ros', '8', 'back', 'strong', 'inter', 'advertising', 'revenu', 'hop', 'increa', 'subscrib', 'offering', 'onli', 'servic', 'free', 'timewar', 'inter', 'custom', 'try', 'sig', 'aol', 'existing', 'custom', 'high', 'speed', 'broadba', 'timewar', 'also', 'resta', '2000', '2003', 'resul', 'following', 'prob', 'us', 'securitie', 'exchang', 'commissio', 'sec', 'clo', 'concluding', 'tim', 'war', 'fourth', 'quar', 'profi', 'slightly', 'bett', 'analy', 'expectatio', 'film', 'divisio', 'saw', 'profi', 'slump', '27', '284m', 'helped', 'box', 'offic', 'flop', 'alexa', 'catwoma', 'sharp', 'contra', 'year', 'earlier', 'third', 'final', 'film', 'lord', 'ring', 'trilogy', 'boosted', 'resul', 'full', 'year', 'timewar', 'posted', 'profi', '3', '36b', '27', '2003', 'performanc', 'revenu', 'grew', '6', '4', '42', '09b', 'financial', 'performanc', 'strong', 'meeting', 'exceeding', 'full', 'year', 'objectiv', 'greatly', 'enhancing', 'flexibility', 'chairma', 'chief', 'executiv', 'richard', 'parso', 'said', '2005', 'timewar', 'projecting', 'operating', 'earning', 'growth', 'arou', '5', 'also', 'expec', 'high', 'revenu', 'wider', 'profi', 'margi', 'timewar', 'resta', 'accou', 'par', 'effor', 'resolv', 'inquiry', 'aol', 'us', 'mark', 'regulator', 'already', 'offered', 'pay', '300m', 'settl', 'charg', 'deal', 'review', 'sec', 'company', 'said', 'unabl', 'estima', 'amou', 'needed', 'set', 'asid', 'legal', 'reserv', 'previously', 'set', '500m', 'int', 'adju', 'way', 'accou', 'deal', 'rma', 'music', 'publish', 'bertelsmann', 'purcha', 'stak', 'aol', 'europ', 'reported', 'advertising', 'revenu', 'book', 'sal', 'stak', 'aol', 'europ', 'loss', 'valu', 'stak']),\n",
       "       list(['dollar', 'gai', 'greenspa', 'speech', 'dollar', 'hit', 'high', 'level', 'euro', 'almo', 'three', 'month', 'federal', 'reserv', 'head', 'said', 'us', 'trad', 'defici', 'set', 'stabili', 'ala', 'greenspa', 'highlighted', 'us', 'governm', 'willingness', 'curb', 'spending', 'rising', 'household', 'saving', 'factor', 'may', 'help', 'reduc', 'lat', 'trading', 'new', 'york', 'dollar', 'reached', '1', '2871', 'euro', '1', '2974', 'thursday', 'mark', 'conc', 'defici', 'hit', 'greenback', 'rec', 'month', 'friday', 'federal', 'reserv', 'chairma', 'mr', 'greenspa', 'speech', 'londo', 'ahead', 'meeting', 'g7', 'financ', 'mini', 'sen', 'dollar', 'high', 'earlier', 'tumbled', 'back', 'wor', 'expected', 'us', 'job', 'data', 'think', 'chairma', 'taking', 'much', 'sangui', 'view', 'curr', 'accou', 'defici', 'tak', 'tim', 'said', 'rober', 'sinch', 'head', 'currency', 'strategy', 'bank', 'america', 'new', 'york', 'taking', 'long', 'term', 'view', 'laying', 'set', 'conditio', 'curr', 'accou', 'defici', 'improv', 'year', 'nex', 'worrie', 'defici', 'conc', 'china', 'howev', 'remai', 'china', 'currency', 'remai', 'pegged', 'dollar', 'us', 'currency', 'sharp', 'fall', 'rec', 'month', 'therefor', 'mad', 'chi', 'expor', 'pric', 'highly', 'competitiv', 'call', 'shif', 'beijing', 'policy', 'fall', 'deaf', 'ear', 'despi', 'rec', 'comm', 'major', 'chi', 'newspap', 'tim', 'rip', 'loosening', 'peg', 'g7', 'meeting', 'though', 'unlikely', 'produc', 'meaningful', 'movem', 'chi', 'policy', 'meantim', 'us', 'federal', 'reserv', 'decisio', '2', 'february', 'boo', 'inter', 'rat', 'quar', 'poi', 'sixth', 'mov', 'many', 'month', 'opened', 'differential', 'europea', 'rat', 'half', 'poi', 'window', 'believ', 'could', 'enough', 'keep', 'us', 'ass', 'looking', 'attractiv', 'could', 'help', 'prop', 'dollar', 'rec', 'fall', 'partly', 'resul', 'big', 'budg', 'defici', 'well', 'us', 'yawning', 'curr', 'accou', 'gap', 'need', 'funded', 'buying', 'us', 'bond', 'ass', 'foreig', 'firm', 'governm', 'whi', 'hou', 'announc', 'budg', 'monday', 'many', 'commentator', 'believ', 'defici', 'remai', 'clo', 'half', 'trillio', 'dollar']),\n",
       "       list(['yuko', 'uni', 'buyer', 'fac', 'loa', 'claim', 'owner', 'embattled', 'russia', 'oil', 'gia', 'yuko', 'ask', 'buyer', 'form', 'productio', 'uni', 'pay', 'back', '900m', 'â', '479m', 'loa', 'sta', 'owned', 'rosnef', 'bough', 'yugansk', 'uni', '9', '3bn', 'sal', 'forced', 'russia', 'par', 'settl', '27', '5bn', 'tax', 'claim', 'yuko', 'yuko', 'owner', 'menatep', 'group', 'say', 'ask', 'rosnef', 'repay', 'loa', 'yugansk', 'secured', 'ass', 'rosnef', 'already', 'fac', 'similar', '540m', 'repaym', 'dema', 'foreig', 'bank', 'legal', 'exper', 'said', 'rosnef', 'purcha', 'yugansk', 'would', 'includ', 'obligatio', 'pledged', 'ass', 'rosnef', 'pay', 'real', 'money', 'creditor', 'avoid', 'seizur', 'yugansk', 'ass', 'said', 'moscow', 'based', 'us', 'lawy', 'jamie', 'firesto', 'connected', 'cas', 'menatep', 'group', 'managing', 'director', 'tim', 'osbor', 'told', 'reu', 'new', 'agency', 'defaul', 'figh', 'rul', 'law', 'exi', 'international', 'arbitratio', 'clau', 'credi', 'rosnef', 'official', 'unavailabl', 'comm', 'company', 'said', 'int', 'tak', 'actio', 'menatep', 'recov', 'tax', 'claim', 'deb', 'owed', 'yugansk', 'yuko', 'filed', 'bankruptcy', 'protectio', 'us', 'cour', 'attemp', 'prev', 'forced', 'sal', 'mai', 'productio', 'arm', 'sal', 'wen', 'ahead', 'decemb', 'yugansk', 'sold', 'littl', 'know', 'shell', 'company', 'tur', 'bough', 'rosnef', 'yuko', 'claim', 'downfall', 'punishm', 'political', 'ambitio', 'found', 'mikhail', 'khodorkovsky', 'vowed', 'sue', 'participa', 'sal']),\n",
       "       ...,\n",
       "       list(['careful', 'cod', 'new', 'europea', 'directiv', 'could', 'put', 'softwar', 'wri', 'risk', 'legal', 'actio', 'war', 'form', 'programm', 'technology', 'analy', 'bill', 'thompso', 'get', 'way', 'dutch', 'governm', 'conclud', 'presidency', 'europea', 'unio', 'pushing', 'controversial', 'measur', 'rejected', 'europea', 'parliam', 'lack', 'majority', 'suppor', 'national', 'governm', 'leav', 'millio', 'europea', 'citiz', 'legal', 'limbo', 'facing', 'possibility', 'cour', 'cas', 'new', 'law', 'bord', 'control', 'defenc', 'eve', 'new', 'constitutio', 'tv', 'scree', 'would', 'full', 'exper', 'agonising', 'impac', 'daily', 'liv', 'sadly', 'directly', 'affected', 'controversy', 'conc', 'patenting', 'compu', 'program', 'topic', 'may', 'exci', 'blogg', 'campaigning', 'group', 'technical', 'press', 'obsess', 'middl', 'britai', 'much', 'fuss', 'nera', 'directiv', 'patentability', 'compu', 'implemented', 'inventio', 'way', 'amend', 'articl', '52', '1973', 'europea', 'pat', 'conventio', 'yet', 'new', 'directiv', 'nodded', 'nex', 'meeting', 'one', 'eu', 'ministerial', 'council', 'seem', 'likely', 'allow', 'program', 'patented', 'europ', 'us', 'many', 'observ', 'computing', 'sce', 'including', 'think', 'resul', 'disastrou', 'small', 'companie', 'innovativ', 'programm', 'free', 'ope', 'sourc', 'softwar', 'movem', 'let', 'larg', 'companie', 'pat', 'sor', 'idea', 'giv', 'legal', 'forc', 'wan', 'limi', 'competitor', 'use', 'really', 'obviou', 'idea', 'us', 'canno', 'build', 'sys', 'stor', 'custom', 'credi', 'card', 'detail', 'pay', 'withou', 'enter', 'unless', 'amazo', 'let', 'hold', 'pat', 'one', 'click', 'onli', 'purcha', 'small', 'inventio', 'amazo', 'mad', 'pat', 'offic', 'fir', 'own', 'relatively', 'free', 'sor', 'thing', 'perhap', 'long', 'new', 'proposal', 'go', 'back', '2002', 'although', 'argum', 'patentability', 'softwar', 'compu', 'implemented', 'inventio', 'going', 'sinc', 'lea', 'mid', '1980', 'com', 'head', 'year', 'proposal', 'mad', 'endorsed', 'council', 'mini', 'radically', 'modified', 'europea', 'parliam', 'presented', 'original', 'form', 'national', 'governm', 'seem', 'awar', 'probl', 'pola', 'rejected', 'proposal', 'rmany', 'mai', 'political', 'partie', 'opposed', 'enough', 'oppositio', 'guarantee', 'rejectio', 'early', 'decemb', 'british', 'governm', 'held', 'consultatio', 'meeting', 'commented', 'proposal', 'scienc', 'mini', 'lord', 'sainsbury', 'wen', 'along', 'lis', 'outli', 'uk', 'positio', 'according', 'pre', 'embarrassing', 'see', 'littl', 'mini', 'official', 'actually', 'understood', 'issu', 'concerned', 'draf', 'directiv', 'put', 'council', 'called', 'item', 'approved', 'rejected', 'discussio', 'amendm', 'allowed', 'worried', 'fir', 'abu', 'democratic', 'process', 'involved', 'disregarding', 'view', 'parliam', 'abandoning', 'carefully', 'argued', 'amendm', 'goe', 'hear', 'europea', 'projec', 'eve', 'car', 'softwar', 'pat', 'worried', 'coder', 'treated', 'lik', 'today', 'say', 'tomorrow', 'directly', 'softwar', 'pat', 'granted', 'programm', 'worry', 'cod', 'writing', 'infringing', 'someo', 'els', 'pat', 'stealing', 'softwar', 'cod', 'already', 'protected', 'copyrigh', 'pat', 'copyrigh', 'something', 'much', 'strong', 'pat', 'giv', 'owner', 'righ', 'stop', 'anyo', 'els', 'using', 'inventio', 'eve', 'perso', 'invented', 'separately', 'never', 'sham', 'managed', 'read', 'lord', 'byro', 'child', 'harold', 'pilgrimag', 'pointed', 'one', 'articl', 'contained', 'substantial', 'chunk', 'poem', 'could', 'def', 'cour', 'claiming', 'simply', 'mad', 'coincidenc', 'hold', 'pat', 'sit', 'afternoo', 'wri', 'brillia', 'graphic', 'compressio', 'routi', 'happ', 'lzw', 'algorithm', 'used', 'gif', 'fil', 'troubl', 'pat', 'law', 'lea', 'us', 'coincidenc', 'defenc', 'proposed', 'directiv', 'supported', 'many', 'major', 'softwar', 'companie', 'hardly', 'surprising', 'sinc', 'us', 'based', 'already', 'cop', 'legal', 'environm', 'allow', 'pat', 'legal', 'departm', 'crucially', 'pat', 'trad', 'cross', 'lic', 'pat', 'hold', 'eve', 'sys', 'break', 'cour', 'microsof', 'found', 'las', 'year', 'initially', 'los', 'cas', 'brough', 'eola', 'claimed', 'inter', 'explor', 'brow', 'infringed', 'eola', 'pat', 'one', 'eventually', 'throw', 'month', 'uncertainty', 'millio', 'dollar', 'small', 'companie', 'free', 'ope', 'softwar', 'movem', 'pat', 'trad', 'much', 'really', 'useful', 'softwar', 'use', 'every', 'day', 'program', 'lik', 'apach', 'web', 'serv', 'gnu', 'linux', 'operating', 'sys', 'fearsomely', 'popular', 'firefox', 'brow', 'developed', 'outsid', 'company', 'structur', 'peopl', 'legal', 'departm', 'check', 'pat', 'infring', 'damag', 'softwar', 'happ', 'overnigh', 'cour', 'directiv', 'goe', 'writt', 'national', 'law', 'steady', 'stream', 'legal', 'actio', 'small', 'companie', 'ope', 'sourc', 'produc', 'eventually', 'someo', 'decid', 'attack', 'linux', 'directly', 'probably', 'secr', 'funding', 'one', 'two', 'larg', 'play', 'new', 'directiv', 'limi', 'innovatio', 'forcing', 'programm', 'spend', 'tim', 'checking', 'pat', 'infring', 'simply', 'avoiding', 'working', 'potentially', 'competitiv', 'area', 'damag', 'europ', 'compu', 'industry', 'hop', 'council', 'mini', 'integrity', 'strength', 'rejec', 'bad', 'law', 'bill', 'thompso', 'regular', 'commentator', 'bbc', 'world', 'servic', 'programm', 'go', 'digital']),\n",
       "       list(['us', 'cyber', 'security', 'chief', 'resig', 'man', 'making', 'sur', 'us', 'compu', 'network', 'saf', 'secur', 'resigned', 'year', 'pos', 'ami', 'yora', 'director', 'national', 'cyber', 'security', 'divisio', 'withi', 'us', 'departm', 'homela', 'security', 'created', 'following', '9', '11', 'attack', 'divisio', 'tasked', 'improving', 'us', 'defenc', 'maliciou', 'hack', 'viru', 'net', 'based', 'threa', 'repor', 'sugg', 'lef', 'divisio', 'giv', 'enough', 'clou', 'withi', 'larg', 'organisatio', 'mr', 'yora', 'took', 'pos', 'septemb', '2003', 'fir', 'task', 'get', 'cyber', 'security', 'divisio', 'running', 'organisatio', 'staff', '60', 'peopl', 'budg', '80m', 'â', '44', '54m', 'divisio', 'charged', 'thinking', 'carrying', 'actio', 'mak', 'us', 'network', 'imperviou', 'attack', 'disruptio', 'viru', 'worm', 'hack', 'attack', 'becom', 'commonplac', 'las', '12', 'month', 'mr', 'yora', 'oversaw', 'creatio', 'cyber', 'aler', 'sys', 'send', 'warning', 'big', 'hitting', 'viru', 'net', 'attack', 'occur', 'warning', 'also', 'contained', 'informatio', 'firm', 'organisatio', 'could', 'protec', 'attack', 'cyber', 'security', 'divisio', 'also', 'audited', 'us', 'governm', 'network', 'discov', 'exactly', 'sitting', 'network', 'nex', 'step', 'creatio', 'scanning', 'sys', 'identify', 'vulnerabilitie', 'mad', 'federal', 'network', 'machi', 'susceptibl', 'attack', 'maliciou', 'hack', 'viru', 'wri', 'mr', 'yora', 'divisio', 'also', 'work', 'identify', 'network', 'machi', 'brok', 'cyber', 'criminal', 'despi', 'success', 'mr', 'yora', 'lef', 'pos', 'abruptly', 'end', 'las', 'week', 'reportedly', 'giving', 'one', 'day', 'notic', 'boss', 'departm', 'homela', 'security', 'ami', 'yora', 'valuabl', 'contributor', 'cyber', 'security', 'issu', 'pas', 'year', 'apprecia', 'effor', 'starting', 'departm', 'cybersecurity', 'program', 'said', 'departm', 'homela', 'security', 'spokeswoma', 'repor', 'suggested', 'mr', 'yora', 'fel', 'frustrated', 'lack', 'prominenc', 'giv', 'work', 'protec', 'net', 'based', 'threa', 'wider', 'homela', 'organisatio', 'attemp', 'us', 'politicia', 'pass', 'law', 'promo', 'mr', 'yora', 'rai', 'profil', 'departm', 'work', 'mired', 'congress']),\n",
       "       list(['losing', 'onli', 'gaming', 'onli', 'rol', 'playing', 'gam', 'tim', 'consuming', 'enthralling', 'fligh', 'reality', 'peopl', 'taking', 'fantasy', 'liv', 'seriously', 'video', 'gam', 'world', 'warcraf', 'hit', 'shop', 'europ', 'las', 'week', 'fan', 'wro', 'bbc', 'websi', 'express', 'deligh', 'offer', 'warning', 'addictio', 'gam', 'lik', 'far', 'costly', 'tim', 'substanc', 'could', 'impair', 'keep', 'track', 'tim', 'wro', 'travi', 'anderso', 'texa', 'comm', 'humorou', 'gam', 'good', 'going', 'get', 'way', 'could', 'limi', 'hour', 'spend', 'playing', 'wro', 'charl', 'macintyr', 'engla', 'struck', 'worrying', 'ton', 'massively', 'multiplay', 'onli', 'rol', 'playing', 'gam', 'mmorpg', 'need', 'get', 'could', 'motto', 'mmorpg', 'sham', 'tting', 'popular', 'know', 'probl', 'going', 'mushroom', 'wro', 'stuar', 'stanto', 'davie', 'huddersfield', 'scar', 'mongering', 'articl', 'addictiv', 'video', 'gam', 'existed', 'sinc', 'day', 'fir', 'gam', 'pong', 'stopped', 'everyo', 'working', 'atari', 'offic', 'gaming', 'lik', 'pastim', 'quickly', 'becom', 'unhealthy', 'obsessio', 'wheth', 'spending', 'much', 'tim', 'gym', 'fro', 'televisio', 'reading', 'poetry', 'unfortunately', 'gaming', 'addictio', 'far', 'easy', 'associatio', 'mak', 'howev', 'storie', 'gamer', 'spending', '10', '15', 'hour', 'day', 'fro', 'video', 'gam', 'becoming', 'frequ', 'impac', 'familie', 'qui', 'distressing', 'massively', 'multiplay', 'onli', 'rol', 'playing', 'gam', 'mmorpg', 'allow', 'thousa', 'gamer', 'shar', 'commo', 'experienc', 'sharing', 'fantasy', 'scienc', 'fictio', 'world', 'scop', 'gam', 'lik', 'warcraf', 'everqu', 'ultima', 'among', 'other', 'epic', 'exploratio', 'adventur', 'almo', 'infini', 'par', 'probl', 'grinding', 'gamer', 'perform', 'long', 'winded', 'mindless', 'task', 'bring', 'level', 'gai', 'access', 'adventur', 'ope', 'endedness', 'bring', 'desir', 'keep', 'playing', 'reaso', 'everqu', 'eq', 'nicknamed', 'evercrack', 'e', 'hayo', 'writing', 'cultur', 'blogzi', 'pri', 'cultur', 'said', 'recently', 'used', 'play', 'onli', 'rol', 'playing', 'gam', 'everqu', 'lot', 'lot', 'mea', 'probably', '15', '20', 'hour', 'week', 'averag', 'week', 'work', 'many', '30', '40', 'hour', 'say', 'world', 'onli', 'gaming', 'behaviour', 'unusual', 'lot', 'peopl', 'knew', 'gam', 'played', 'eq', 'much', 'lie', 'go', 'work', 'stuff', 'hom', 'cancel', 'refu', 'invitatio', 'dinn', 'spend', 'much', 'less', 'tim', 'watching', 'tv', 'good', 'thing', 'presumably', 'wro', 'explaining', 'everqu', 'took', 'tim', 'qui', 'gam', 'say', 'realised', 'lif', 'fun', 'everqu', 'let', 'us', 'clear', 'obsessio', 'rar', 'hug', 'growth', 'onli', 'gaming', 'mea', 'growth', 'numb', 'peopl', 'tak', 'passio', 'hobby', 'far', 'almo', '400', '000', 'peopl', 'bough', 'copy', 'world', 'warcraf', 'fir', 'two', 'day', 'sal', 'earlier', 'month', 'fractio', 'desc', 'obsessiv', 'though', 'familie', 'friend', 'gamer', 'affected', 'everqu', 'found', 'one', 'blog', 'everqu', 'daily', 'grind', 'jan', 'run', 'websi', 'compil', 'chronicl', 'hear', 'rending', 'storie', 'actually', 'convinced', 'poi', 'peopl', 'spend', 'tim', 'mmoprg', 'reality', 'said', 'one', 'unnamed', 'correspo', 'anonymou', 'wro', 'rar', 'nigh', 'husba', 'com', 'bed', 'tim', 'find', 'used', 'sleeping', 'difficul', 'get', 'sleep', 'anoth', 'body', 'laying', 'nex', 'talk', 'playing', 'absolutely', 'poi', 'hear', 'distracted', 'get', 'ummm', 'ya', 'minu', 'ask', 'questio', 'gaming', 'widow', 'becom', 'comedic', 'term', 'wom', 'shu', 'mal', 'gamer', 'lea', 'funny', 'anoth', 'correspo', 'wro', 'believ', 'addicted', 'onli', 'gaming', 'cau', 'depressio', 'restlessness', 'eve', 'sadd', 'today', 'son', 'fiv', 'day', 'old', 'sad', 'truth', 'husba', 'spe', '11', 'hour', 'today', 'playing', 'warcraf', 'gam', 'interac', 'swee', 'tiny', 'baby', 'importa', 'que', 'waiting', 'onli', 'video', 'gam', 'fan', 'oft', 'complai', 'hobby', 'misunderstood', 'marginalised', 'gaming', 'becom', 'ever', 'mainstream', 'gam', 'ever', 'immersiv', 'hiding', 'plac', 'social', 'probl', 'wish', '30', '40', 'hour', 'week', 'unusual', 'think', 'probably', '11', 'hour', 'stretch', 'surprising', 'know', 'peopl', 'play', '15', 'hour', 'stretch', 'know', 'peopl', 'spending', 'week', 'holiday', 'work', 'playing', 'warcraf', 'know', 'peopl', 'would', 'play', 'ever', 'crack', 'shif', 'waking', '3am', 'tak', 'friend', 'resum', 'waiting', 'item', 'needed', 'appear', 'understa', 'key', 'sig', 'addictio', 'alter', 'lif', 'arou', 'rath', 'fit', 'lif', 'standard', 'many', 'us', 'addic', 'solutio', 'forc', 'stop', 'playing', 'need', 'mak', 'real', 'lif', 'bit', 'interesting', 'sadly', 'talk', 'peopl', 'becoming', 'obsessed', 'gaming', 'find', 'longing', 'tim', 'joi', 'long', 'term', 'relationship', '4', 'year', 'sinc', 'bega', 'gam', 'becom', 'complex', 'find', 'less', 'less', 'tim', 'play', 'marriag', 'work', 'mai', 'drag', 'tim', 'think', 'lin', 'playing', 'gam', 'lot', 'gaming', 'addictio', 'really', 'qui', 'distinc', 'play', 'gam', 'lot', 'definately', '20', 'hour', 'week', 'go', 'missing', 'work', 'commitm', 'order', 'play', 'gam', 'year', 'ago', 'deleted', 'every', 'gam', 'compu', 'rpg', 'wor', 'real', 'world', 'fad', 'worrie', 'sorrou', 'new', 'magic', 'staff', 'mighty', 'sword', 'unlik', 'book', 'perhap', 'eve', 'tv', 'gai', 'absolutely', 'nothing', 'stop', 'playing', 'poi', 'started', 'achiev', '10', 'hour', 'sessio', 'irretrievably', 'locked', 'gam', 'sinc', 'gained', 'nothing', 'real', 'world', 'may', 'well', 'pil', 'achiev', 'fak', 'one', 'despi', 'littl', 'monetary', 'valu', 'reward', 'encourag', 'offered', 'mmorpg', 'enough', 'hook', 'gam', 'hour', 'daily', 'business', 'could', 'lear', 'leverag', 'simply', 'huma', 'need', 'easily', 'measurabl', 'progress', 'recognitio', 'perhap', 'unhealthily', 'obsessed', 'simply', 'need', 'recognitio', 'achiev', 'reality', 'advic', 'gaming', 'widow', 'bea', 'em', 'joi', 'em', 'try', 'playing', 'wan', 'play', 'well', 'well', 'lea', 'togeth', 'somewh', 'addic', 'cos', 'relationship', 'still', 'play', 'withou', 'guil', 'heh', 'long', 'played', 'one', 'sitting', 'morning', 'till', 'early', 'hour', 'nex', 'day', 'bird', 'singing', 'sid', 'hobbl', 'bath', 'room', 'cos', 'bladd', 'full', 'pai', 'would', 'hardly', 'eat', 'perhap', 'toa', 'smok', 'endlessly', 'drink', 'thankfully', 'fascinatio', 'wor', 'girlfrie', 'still', 'job', 'par', 'onli', 'gaming', 'giv', 'adictio', 'illusory', 'achiev', 'end', 'sigh', 'keep', 'going', 'mirag', 'ultima', 'obsessiv', 'behaviour', 'cour', 'alway', 'cau', 'conc', 'alway', 'both', 'articl', 'gaming', 'talk', 'term', 'reality', 'obviously', 'somebody', 'spend', 'thirty', 'hour', 'week', 'playing', 'everqu', 'probl', 'probl', 'howev', 'nothing', 'dysfunctional', 'sen', 'reality', 'obsessiv', 'eq', 'play', 'consid', 'gam', 'real', 'exampl', 'obsessiv', 'automotiv', 'tink', 'consid', 'car', 'huma', 'mmorpg', 'uniqu', 'dang', 'term', 'encouraging', 'obsessiv', 'behaviour', 'crea', 'absorbing', 'virtual', 'world', 'rath', 'easily', 'accessed', '24', '7', 'probl', 'lie', 'natur', 'gaming', 'natur', 'moder', '24', 'hour', 'cultur', 'probl', 'called', 'mmorpg', 'never', 'really', 'compl', 'alway', 'anoth', 'que', 'friend', '10', 'hour', 'sleep', 'sinc', 'released', 'friday', 'championship', 'manag', 'consumed', 'lif', 'year', 'one', 'particular', 'sessio', 'started', '2pm', 'sunday', 'paused', 'brief', 'sleep', '5am', 'monday', 'visi', 'university', 'class', 'restarted', 'midday', 'anoth', '10', 'hour', 'sessio', 'peopl', 'tend', 'hark', 'probl', 'hardcor', 'gaming', 'seem', 'rarely', 'allowed', 'becom', 'immersed', 'gam', 'would', 'expec', 'perspectiv', 'chang', 'used', 'everqu', 'addic', 'colleg', 'cam', 'poi', 'gaming', 'world', 'fel', 'real', 'real', 'one', 'failed', 'alo', 'cour', 'abl', 'barely', 'gradua', 'lucky', 'cam', 'sen', 'other', 'less', 'fortuna', 'dropped', 'colleg', 'holding', 'job', 'avoid', 'onli', 'rpg', 'lik', 'plagu', 'mad', 'redunda', 'told', 'par', 'new', 'job', 'three', 'month', 'whil', 'every', 'day', 'played', 'everqu', '7', '30am', 'till', '5', 'pm', 'cam', 'hom', 'pretended', 'got', 'well', 'henc', 'justifying', 'playing', 'evening', 'sinc', 'qui', 'playing', 'mmorpg', 'good', 'job', 'got', 'poi', 'eating', 'dinn', 'fro', 'pc', 'realised', 'thing', 'tting', 'silly', 'trying', 'spend', 'much', 'tim', 'easy', 'feel', 'got', 'real', 'addictio', 'going', 'probl', 'lov', 'compl', 'goal', 'completed', 'finished', 'tim', 'mov', 'becom', 'obsessed', 'compl', 'goal', 'standpoi', 'addictio', 'gam', 'never', 'compl', 'ultima', 'goal', 'well', 'would', 'lik', 'falling', 'black', 'pit', 'easier', 'escap', 'controlled', 'fantasy', 'world', 'fac', 'reality', 'tim', 'word', 'goal', 'offered', 'pc', 'gam', 'easier', 'fun', 'real', 'world', 'pretty', 'scary', 'implicatio', 'think', 'buy', 'world', 'warcraf', 'would', 'destroy', 'marrag', 'know', 'played', 'star', 'war', 'galaxie', 'year', 'att', 'addictiveness', 'gam', 'engineered', 'way', 'early', 'gam', 'progress', 'quickly', 'progress', 'becom', 'exponentially', 'slow', 'requiring', 'tim', 'reach', 'nex', 'level', 'sad', 'say', 'peak', 'addictio', 'spending', 'entir', 'week', 'fro', 'monitor', 'slowly', 'building', 'charac', 'stopping', 'food', 'toil', 'break', 'thankfully', 'mad', 'clea', 'break', 'actually', 'managed', 'sell', 'jedi', 'accou', 'â', '800', 'sanity', 'check', 'otherwi', 'completely', 'unproductiv', 'tim', 'vacuum', 'sev', 'year', 'ago', 'bega', 'playing', 'ultima', 'onli', 'gam', 'dominated', '2', 'year', 'lif', '2', 'wonderful', 'year', 'still', 'vivid', 'memorie', 'experienc', 'friend', 'onli', 'gaming', 'world', 'escapism', 'withou', 'fear', 'though', 'other', 'something', 'canno', 'alway', 'achieved', 'day', 'day', 'running', 'normal', 'lif', 'whil', 'would', 'war', 'peopl', 'giving', 'much', 'lif', 'gam', 'believ', 'bett', 'way', 'spend', 'tim', 'say', 'watching', 'tv', 'gaming', 'addictiv', 'mad', 'recognised', 'addictio', 'singl', 'used', 'play', 'upto', 'eigh', 'hour', 'nigh', 'work', 'every', 'nigh', 'year', 'building', 'sta', 'completing', 'evermor', 'que', 'battling', 'ogr', 'somehow', 'found', 'tim', 'get', 'eve', 'met', 'someo', 'got', 'married', 'lif', 'changed', 'hell', 'still', 'cas', 'spell', 'battl', 'till', 'early', 'hour', 'morning', 'fun', 'onli', 'gaming', 'enjoyed', 'much', 'would', 'enjoy', 'watching', 'televisio', 'going', 'cinema', 'pub', 'mat', 'many', 'peopl', 'use', 'recreational', 'drug', 'occasional', 'basi', 'abl', 'lead', 'succesfull', 'liv', 'familie', 'relationship', 'good', 'career', 'minority', 'allow', 'drug', 'tak', 'destroy', 'liv', 'becom', 'addicted', 'according', 'articl', 'tru', 'mmorpg', 'messag', 'governm', 'clear', 'either', 'legali', 'drug', 'outlaw', 'onli', 'gaming', 'sound', 'lik', 'sad', 'storie', 'believ', 'play', 'alo', 'warcraf', 'know', 'full', 'well', 'addictiv', 'resolu', 'tak', 'lif', 'certainly', 'get', 'way', 'though', 'think', 'peopl', 'simply', 'know', 'draw', 'lin', 'lack', 'willpow', 'stop', 'stepping', 'think', 'obsessed', 'gaming', 'neral', 'spend', 'far', 'much', 'tim', 'playing', 'gam', 'lik', 'everqu', '2', 'football', 'manag', 'rath', 'going', 'interacting', 'real', 'peopl', 'try', 'alway', 'thinking', 'back', 'mind', 'rath', 'fro', 'compu', 'winning', 'leagu', 'cambridg', 'united', 'obsessed', 'onli', 'rol', 'playing', 'gam', 'much', 'que', 'adrenali', 'real', 'lif', 'situatio', 'goal', 'achiev', 'etc', 'spend', 'fiv', 'hour', 'per', 'day', 'onli', 'playing', 'rarely', 'get', 'four', 'fiv', 'hour', 'sleep', 'tting', 'work', 'nex', 'morning', 'many', 'play', 'spend', 'tim', 'mmorpg', 'rath', 'fro', 'tv', 'fail', 'see', 'affec', 'play', 'social', 'liv', 'negatively', 'furthermor', 'typ', 'gam', 'contai', 'hug', 'social', 'aspec', 'wherea', 'gam', 'pursui', 'couch', 'potato', 'play', 'could', 'indulging', 'solitary', 'natur', 'gam', 'lik', 'thing', 'much', 'anything', 'bad', 'thing', 'long', 'walk', 'away', 'compu', 'thing', 'grea', 'fun', 'living', 'korea', 'mom', 'lot', 'pc', 'bang', 'inter', 'caf', 'nearly', 'south', 'korea', 'addicted', 'onli', 'gam', 'one', 'korea', 'died', 'lack', 'food', 'water', 'playing', 'onli', 'gam', 'play', 'xbox', 'liv', 'every', 'day', 'find', 'self', 'lying', 'rescheduling', 'everything', 'arou', 'gaming', 'fix', 'long', 'played', '24', 'hour', 'straigh', 'sessio', 'know', 'play', 'long', 'obsessio', 'control', 'reccom', 'counsellor', 'wind', 'something', 'increasingly', 'concerned', 'mat', 'play', 'onli', 'hour', 'two', 'day', 'awar', 'much', 'tim', 'disappear', 'sitting', 'fro', 'tv', 'trying', 'frag', 'individual', 'tting', 'balanc', 'tting', 'hom', 'relasing', 'stress', 'day', 'hour', 'gaming', 'enjoying', 'real', 'lif', 'bough', 'us', 'versio', 'world', 'warcraf', 'cam', 'long', 'period', 'played', '23', 'hrs', 'straigh', 'gav', 'gam', 'month', 'addictiv', 'subsequently', 'bough', 'europea', 'versio', 'help', 'futur', 'going', 'regula', 'tim', 'far', 'strictly', 'grea', 'gam', 'played', 'mmorpg', 'gam', 'year', 'agree', 'typ', 'gam', 'lif', 'sucking', 'conc', 'young', 'neratio', 'gamer', 'play', 'hour', 'end', 'adul', 'envirom', 'mmorpg', 'gam', 'need', 'credi', 'card', 'play', 'don', 'think', 'par', 'know', 'letting', 'childr', 'unless', 'undeniabl', 'medical', 'proof', 'staring', 'compu', 'scree', 'hour', 'tim', 'damag', 'perso', '191', 'health', 'expec', 'decli', 'get', 'wor', 'peopl', 'pathetic', 'need', 'get', 'machi', 'notic', 'world', 'swiftly', 'overcom', 'issu', 'troubl', 'mak', 'trifling', 'worrie', 'onli', 'univ', 'absolutely', 'meaningless', '24hour', 'kid', 'school', 'half', 'term', 'ultima', 'onli', 'gam', 'ahhhh', 'day', 'lol'])],\n",
       "      dtype=object)"
      ]
     },
     "execution_count": 26,
     "metadata": {},
     "output_type": "execute_result"
    }
   ],
   "source": [
    "x"
   ]
  },
  {
   "cell_type": "code",
   "execution_count": 78,
   "metadata": {},
   "outputs": [
    {
     "name": "stdout",
     "output_type": "stream",
     "text": [
      "no of features extracted: 14850\n"
     ]
    }
   ],
   "source": [
    "x = np.load('../data/features/tokenized.npy')\n",
    "y = np.load('../data/features/labels.npy')\n",
    "\n",
    "def dummy_fun(doc):\n",
    "    return doc\n",
    "\n",
    "vect = TfidfVectorizer(\n",
    "    analyzer='word',\n",
    "    tokenizer=dummy_fun,\n",
    "    preprocessor=dummy_fun,\n",
    "    token_pattern=None, \n",
    "    min_df=2,\n",
    "    max_df=0.5,\n",
    "    ngram_range=(1,1))\n",
    "\n",
    "X = vect.fit_transform(x)\n",
    "Y = y\n",
    "\n",
    "print (\"no of features extracted:\", X.shape[1])"
   ]
  },
  {
   "cell_type": "code",
   "execution_count": 85,
   "metadata": {},
   "outputs": [
    {
     "name": "stdout",
     "output_type": "stream",
     "text": [
      "train size: (1557, 14850)\n",
      "test size: (668, 14850)\n",
      "class distribution in training set: 3    357\n",
      "0    357\n",
      "2    292\n",
      "4    281\n",
      "1    270\n",
      "dtype: int64\n",
      "class distribution in test set: 3    154\n",
      "0    153\n",
      "2    125\n",
      "4    120\n",
      "1    116\n",
      "dtype: int64\n"
     ]
    }
   ],
   "source": [
    "X_train, X_test, y_train, y_test = train_test_split(X, Y, test_size=0.3, random_state=42, stratify=Y)\n",
    "\n",
    "print (\"train size:\", X_train.shape)\n",
    "print (\"test size:\", X_test.shape)\n",
    "print (\"class distribution in training set:\", pd.Series(y_train).value_counts())\n",
    "print (\"class distribution in test set:\", pd.Series(y_test).value_counts())"
   ]
  },
  {
   "cell_type": "code",
   "execution_count": 82,
   "metadata": {},
   "outputs": [
    {
     "data": {
      "text/plain": [
       "RandomForestClassifier(bootstrap=True, class_weight=None, criterion='gini',\n",
       "            max_depth=150, max_features='auto', max_leaf_nodes=None,\n",
       "            min_impurity_decrease=0.0, min_impurity_split=None,\n",
       "            min_samples_leaf=1, min_samples_split=2,\n",
       "            min_weight_fraction_leaf=0.0, n_estimators=300, n_jobs=1,\n",
       "            oob_score=False, random_state=None, verbose=0,\n",
       "            warm_start=False)"
      ]
     },
     "execution_count": 82,
     "metadata": {},
     "output_type": "execute_result"
    }
   ],
   "source": [
    "model = RandomForestClassifier(n_estimators=300, max_depth=150,n_jobs=1)\n",
    "model.fit(X_train, y_train)"
   ]
  },
  {
   "cell_type": "code",
   "execution_count": 86,
   "metadata": {},
   "outputs": [
    {
     "name": "stdout",
     "output_type": "stream",
     "text": [
      "Confusion Matrix:\n",
      " [[150   0   2   0   1]\n",
      " [  2 113   1   0   0]\n",
      " [  7   0 117   0   1]\n",
      " [  0   0   0 154   0]\n",
      " [  2   1   1   0 116]]\n",
      "\n",
      "Kappa:  0.9661644614284991\n",
      "\n",
      "Accuracy:  0.9730538922155688\n"
     ]
    }
   ],
   "source": [
    "y_pred = model.predict(X_test)\n",
    "c_mat = confusion_matrix(y_test,y_pred)\n",
    "kappa = cohen_kappa_score(y_test,y_pred)\n",
    "acc = accuracy_score(y_test,y_pred)\n",
    "\n",
    "print (\"Confusion Matrix:\\n\", c_mat)\n",
    "print (\"\\nKappa: \",kappa)\n",
    "print (\"\\nAccuracy: \",acc)"
   ]
  },
  {
   "cell_type": "code",
   "execution_count": 77,
   "metadata": {},
   "outputs": [
    {
     "name": "stdout",
     "output_type": "stream",
     "text": [
      "no of features extracted: 136542\n"
     ]
    }
   ],
   "source": [
    "from sklearn.feature_extraction.text import CountVectorizer\n",
    "\n",
    "def dummy_fun(doc):\n",
    "    return doc\n",
    "\n",
    "countvect = CountVectorizer(\n",
    "    analyzer='word',\n",
    "    tokenizer=dummy_fun,\n",
    "    preprocessor=dummy_fun,\n",
    "    token_pattern=None, \n",
    "    min_df=2,\n",
    "    max_df=0.5,\n",
    "    ngram_range=(1,1))\n",
    "\n",
    "X = vect.fit_transform(x)\n",
    "Y = y\n",
    "\n",
    "print (\"no of features extracted:\", X.shape[1])"
   ]
  },
  {
   "cell_type": "code",
   "execution_count": 87,
   "metadata": {},
   "outputs": [
    {
     "name": "stdout",
     "output_type": "stream",
     "text": [
      "train size: (1557, 14850)\n",
      "test size: (668, 14850)\n",
      "class distribution in training set: 3    357\n",
      "0    357\n",
      "2    292\n",
      "4    281\n",
      "1    270\n",
      "dtype: int64\n",
      "class distribution in test set: 3    154\n",
      "0    153\n",
      "2    125\n",
      "4    120\n",
      "1    116\n",
      "dtype: int64\n"
     ]
    }
   ],
   "source": [
    "X_train, X_test, y_train, y_test = train_test_split(X, Y, test_size=0.3, random_state=42, stratify=Y)\n",
    "\n",
    "print (\"train size:\", X_train.shape)\n",
    "print (\"test size:\", X_test.shape)\n",
    "print (\"class distribution in training set:\", pd.Series(y_train).value_counts())\n",
    "print (\"class distribution in test set:\", pd.Series(y_test).value_counts())"
   ]
  },
  {
   "cell_type": "code",
   "execution_count": 88,
   "metadata": {},
   "outputs": [
    {
     "data": {
      "text/plain": [
       "RandomForestClassifier(bootstrap=True, class_weight=None, criterion='gini',\n",
       "            max_depth=150, max_features='auto', max_leaf_nodes=None,\n",
       "            min_impurity_decrease=0.0, min_impurity_split=None,\n",
       "            min_samples_leaf=1, min_samples_split=2,\n",
       "            min_weight_fraction_leaf=0.0, n_estimators=300, n_jobs=1,\n",
       "            oob_score=False, random_state=None, verbose=0,\n",
       "            warm_start=False)"
      ]
     },
     "execution_count": 88,
     "metadata": {},
     "output_type": "execute_result"
    }
   ],
   "source": [
    "model = RandomForestClassifier(n_estimators=300, max_depth=150,n_jobs=1)\n",
    "model.fit(X_train, y_train)"
   ]
  },
  {
   "cell_type": "code",
   "execution_count": 89,
   "metadata": {},
   "outputs": [
    {
     "name": "stdout",
     "output_type": "stream",
     "text": [
      "Confusion Matrix:\n",
      " [[149   0   2   1   1]\n",
      " [  3 111   1   1   0]\n",
      " [  7   0 116   0   2]\n",
      " [  0   0   0 154   0]\n",
      " [  1   0   1   0 118]]\n",
      "\n",
      "Kappa:  0.962400513334309\n",
      "\n",
      "Accuracy:  0.9700598802395209\n"
     ]
    }
   ],
   "source": [
    "y_pred = model.predict(X_test)\n",
    "c_mat = confusion_matrix(y_test,y_pred)\n",
    "kappa = cohen_kappa_score(y_test,y_pred)\n",
    "acc = accuracy_score(y_test,y_pred)\n",
    "\n",
    "print (\"Confusion Matrix:\\n\", c_mat)\n",
    "print (\"\\nKappa: \",kappa)\n",
    "print (\"\\nAccuracy: \",acc)"
   ]
  }
 ],
 "metadata": {
  "kernelspec": {
   "display_name": "Python 3",
   "language": "python",
   "name": "python3"
  },
  "language_info": {
   "codemirror_mode": {
    "name": "ipython",
    "version": 3
   },
   "file_extension": ".py",
   "mimetype": "text/x-python",
   "name": "python",
   "nbconvert_exporter": "python",
   "pygments_lexer": "ipython3",
   "version": "3.7.3"
  }
 },
 "nbformat": 4,
 "nbformat_minor": 2
}
